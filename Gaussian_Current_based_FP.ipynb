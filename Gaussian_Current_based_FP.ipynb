{
 "cells": [
  {
   "cell_type": "markdown",
   "metadata": {},
   "source": [
    "# Gaussian Model + Current-based + Fokker-Planck\n",
    "$$\\frac{dv}{dt}=-g_L(v-V_L)+I_g+I_{syn}; I_{syn}=I_{AMPA}+I_{NMDA}+I_{GABA}$$\n",
    "$$\\sigma_A \\frac{d}{dt} i_{AMPA}=-i_{AMPA}+\\frac{S^{QE}}{N^E}\\Sigma\\delta(t-u_j(t))$$\n",
    "$$\\sigma_N \\frac{d}{dt} i_{NMDA}=-i_{NMDA}+\\frac{L^{E}}{N^E}\\Sigma\\delta(t-u_j(t))$$\n",
    "$$\\sigma_G \\frac{d}{dt} i_{GABA}=-i_{GABA}+\\frac{S^{QI}}{N^I}\\Sigma\\delta(t-u_j(t))$$"
   ]
  },
  {
   "cell_type": "markdown",
   "metadata": {},
   "source": [
    "time constant $\\sigma_N$ is 80~120ms,which couldn't be ignored, so at first, we investigate the dynamics of NMDA-type synaptic input.\n",
    "$$i_N(t) = I_N(0) + \\Sigma \\frac{L^E}{\\sigma_N}e^{\\frac{-(t-u_j(t))}{\\sigma_N}}$$\n",
    "$U(t)$ represents Poisson spike train released by excitatory neuron, NMDA-type synaptic currents are driven by spikes belonging to this spike train."
   ]
  },
  {
   "cell_type": "markdown",
   "metadata": {},
   "source": [
    "The exact spike time in time series  $U(t)$ are uniformly distributed between $t\\in [0,t]$, so $\\rho (t)=\\frac{1}{t}$(t represents time period from current time point,back to the exact spike time of the $i^{th}$ spike)."
   ]
  },
  {
   "cell_type": "markdown",
   "metadata": {},
   "source": [
    "The $i^{th}$ spike at time $t_i$ results in an independent random variable $r$, $r=\\frac{L_E}{\\sigma_N} e^{\\frac{-(t-t_i)}{\\sigma_N}}$, since $\\rho(t_i)= \\frac{1}{t}$, $t_i = \\sigma_Nln(\\frac{r}{f})$, odf for random variable $r$ is $\\frac{\\sigma_N}{rt}$"
   ]
  },
  {
   "cell_type": "markdown",
   "metadata": {},
   "source": [
    "Finally we could get the $n^{th}$ cumulant $c_n[i_N(t)]$ of the NMDA-type synaptic input as the equation:\n",
    "$$c_n[i_N(t)] = \\frac{f^nm_N\\sigma_N}{n}(1-e^{-\\frac{nt}{\\sigma_N}})$$ \n",
    "$$f= \\frac{L^E}{\\sigma_N}$$"
   ]
  },
  {
   "cell_type": "markdown",
   "metadata": {
    "collapsed": true
   },
   "source": [
    "But here, firing rate which induced NMDA-type synaptic input $m_N$ is time-dependent, unlike a constant shown above, so under this condition, I discrete the whole time period into small time bins, this operation should meet the constraint that firing rate $m_N$ within each time bin could be considered unchanged."
   ]
  },
  {
   "cell_type": "markdown",
   "metadata": {},
   "source": [
    "Now we consider the [lT,(l+1)T] time bin, then,\n",
    "$$i_N(lT+T) = i_N(lT)e^{-\\frac{T}{\\sigma_N}} + f\\Sigma e^{-\\frac{T-U_T(t)}{\\sigma_N}}$$\n",
    "similar to what discussed above, $r$(second term in equation above) now distributed over $[fe^{-\\frac{T}{\\sigma_N}},f]$, so if we rewrite it with discrete time bin."
   ]
  },
  {
   "cell_type": "markdown",
   "metadata": {},
   "source": [
    "First of all, we should notice that, the probability function of sum of two(or more) independent variables is the product of probability function of these two independent variables.\n",
    "thus, variable $i_N(lT+T) - i_N(lT)e^{-\\frac{T}{\\sigma_N}}$ equals to summation of $r$, cumulant generating function of $I$ equals to product of those of $r$. $\\Delta I_N(lT) = \\Sigma_{M(t)} r$, so $\\Phi_{i_N} = E[e^{ik\\Delta i_N}]$, for further analysis, we use $log$ format.\n",
    "Finally got,\n",
    "$$ \\Phi_{i_N}(k) = ik\\Delta i_N(lT) + m_NT[\\int e^{ikr}\\frac{\\sigma_N}{Tr}dr-1]$$"
   ]
  },
  {
   "cell_type": "markdown",
   "metadata": {},
   "source": [
    "Once we got the characteristic function descripted above, we could calculate corresponding $1^{st}$ and $2^{nd}$ moment.\n",
    "$$\\mathcal{M}_1[i_N] = (-i)^1\\frac {d\\Phi_{i_N}(k)}{dk}$$\n",
    "$$\\mathcal{M}_2[i_N] = (-i)^2\\frac {d^2\\Phi_{i_N}(k)}{dk^2}$$\n",
    "in which, $k=0$\n",
    "Now, we got,\n",
    "$$<i_N(lT+T)> = <i_N(lT)>e^{-\\frac{T}{\\sigma_N}}+fm_N\\sigma_N(1-e^{-\\frac{T}{\\sigma_N}})$$\n",
    "$$Var[i_N(lT+T)] = \\frac{f^2m_N\\sigma_N}{2}(1-e^{-\\frac{2T}{\\sigma_N}})$$\n"
   ]
  },
  {
   "cell_type": "markdown",
   "metadata": {},
   "source": []
  }
 ],
 "metadata": {
  "kernelspec": {
   "display_name": "Python 2",
   "language": "python",
   "name": "python2"
  },
  "language_info": {
   "codemirror_mode": {
    "name": "ipython",
    "version": 2
   },
   "file_extension": ".py",
   "mimetype": "text/x-python",
   "name": "python",
   "nbconvert_exporter": "python",
   "pygments_lexer": "ipython2",
   "version": "2.7.14"
  }
 },
 "nbformat": 4,
 "nbformat_minor": 2
}
