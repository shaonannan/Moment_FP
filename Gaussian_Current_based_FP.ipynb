{
 "cells": [
  {
   "cell_type": "markdown",
   "metadata": {},
   "source": [
    "# Gaussian Model + Current-based + Fokker-Planck\n",
    "$$\\frac{dv}{dt}=-g_L(v-V_L)+I_g+I_{syn}; I_{syn}=I_{AMPA}+I_{NMDA}+I_{GABA}$$\n",
    "$$\\sigma_A \\frac{d}{dt} i_{AMPA}=-i_{AMPA}+\\frac{S^{QE}}{N^E}\\Sigma\\delta(t-u_j(t))$$\n",
    "$$\\sigma_N \\frac{d}{dt} i_{NMDA}=-i_{NMDA}+\\frac{L^{E}}{N^E}\\Sigma\\delta(t-u_j(t))$$\n",
    "$$\\sigma_G \\frac{d}{dt} i_{GABA}=-i_{GABA}+\\frac{S^{QI}}{N^I}\\Sigma\\delta(t-u_j(t))$$"
   ]
  },
  {
   "cell_type": "markdown",
   "metadata": {},
   "source": [
    "time constant $\\sigma_N$ is 80~120ms,which couldn't be ignored, so at first, we investigate the dynamics of NMDA-type synaptic input.\n",
    "$$i_N(t) = I_N(0) + \\Sigma \\frac{L^E}{\\sigma_N}e^{\\frac{-(t-u_j(t))}{\\sigma_N}}$$\n",
    "$U(t)$ represents Poisson spike train released by excitatory neuron, NMDA-type synaptic currents are driven by spikes belonging to this spike train."
   ]
  },
  {
   "cell_type": "markdown",
   "metadata": {},
   "source": [
    "The exact spike time in time series  $U(t)$ are uniformly distributed between $t\\in [0 t]$, so $\\rho (t)=\\frac{1}{t}$(t represents time period from current time point,back to the exact spike time of the $i^{th}$ spike)."
   ]
  },
  {
   "cell_type": "markdown",
   "metadata": {},
   "source": [
    "The $i^{th}$ spike at time $t_i$ results in an independent random variable $r$, $r=\\frac{L_E}{\\sigma_N} e^{\\frac{-(t-t_i)}{\\sigma_N}}$, since $\\rho(t_i)= \\frac{1}{t}$, $t_i = \\sigma_Nln(\\frac{r}{f})$, odf for random variable $r$ is $\\frac{\\sigma_N}{rt}$"
   ]
  },
  {
   "cell_type": "markdown",
   "metadata": {},
   "source": [
    "Finally we could get the $n^{th}$ cumulant $c_n[i_N(t)]$ of the NMDA-type synaptic input as the equation:\n",
    "$$c_n[i_N(t)] = \\frac{f^nm_N\\sigma_N}{n}(1-e^{-\\frac{nt}{\\sigma_N}})$$ \n",
    "$$f= \\frac{L^E}{\\sigma_N}$$"
   ]
  },
  {
   "cell_type": "code",
   "execution_count": null,
   "metadata": {
    "collapsed": true
   },
   "outputs": [],
   "source": []
  }
 ],
 "metadata": {
  "kernelspec": {
   "display_name": "Python 2",
   "language": "python",
   "name": "python2"
  },
  "language_info": {
   "codemirror_mode": {
    "name": "ipython",
    "version": 2
   },
   "file_extension": ".py",
   "mimetype": "text/x-python",
   "name": "python",
   "nbconvert_exporter": "python",
   "pygments_lexer": "ipython2",
   "version": "2.7.14"
  }
 },
 "nbformat": 4,
 "nbformat_minor": 2
}
